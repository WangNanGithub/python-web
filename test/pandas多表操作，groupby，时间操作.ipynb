{
 "cells": [
  {
   "cell_type": "code",
   "execution_count": 23,
   "metadata": {},
   "outputs": [],
   "source": [
    "from datetime import datetime\n",
    "from datetime import timedelta\n",
    "import pandas as pd\n",
    "import numpy as np"
   ]
  },
  {
   "cell_type": "code",
   "execution_count": 4,
   "metadata": {},
   "outputs": [
    {
     "data": {
      "text/plain": [
       "datetime.datetime(2017, 3, 28, 0, 0)"
      ]
     },
     "execution_count": 4,
     "metadata": {},
     "output_type": "execute_result"
    }
   ],
   "source": [
    "stamp=datetime(2017,3,28)\n",
    "stamp"
   ]
  },
  {
   "cell_type": "code",
   "execution_count": 5,
   "metadata": {},
   "outputs": [
    {
     "data": {
      "text/plain": [
       "'2017-03-28 00:00:00'"
      ]
     },
     "execution_count": 5,
     "metadata": {},
     "output_type": "execute_result"
    }
   ],
   "source": [
    "str(stamp)"
   ]
  },
  {
   "cell_type": "code",
   "execution_count": 6,
   "metadata": {},
   "outputs": [
    {
     "data": {
      "text/plain": [
       "'2017-03-28'"
      ]
     },
     "execution_count": 6,
     "metadata": {},
     "output_type": "execute_result"
    }
   ],
   "source": [
    "stamp.strftime('%Y-%m-%d')"
   ]
  },
  {
   "cell_type": "code",
   "execution_count": 8,
   "metadata": {},
   "outputs": [
    {
     "data": {
      "text/plain": [
       "Timestamp('2017-03-28 00:00:00')"
      ]
     },
     "execution_count": 8,
     "metadata": {},
     "output_type": "execute_result"
    }
   ],
   "source": [
    "pd.to_datetime(datetime(2017,3,28))"
   ]
  },
  {
   "cell_type": "code",
   "execution_count": 9,
   "metadata": {},
   "outputs": [
    {
     "data": {
      "text/plain": [
       "DatetimeIndex(['2016-01-01', '2016-01-02', '2016-01-03', '2016-01-04',\n",
       "               '2016-01-05', '2016-01-06', '2016-01-07'],\n",
       "              dtype='datetime64[ns]', freq='D')"
      ]
     },
     "execution_count": 9,
     "metadata": {},
     "output_type": "execute_result"
    }
   ],
   "source": [
    "pd.date_range('20160101','20160107')"
   ]
  },
  {
   "cell_type": "code",
   "execution_count": 10,
   "metadata": {},
   "outputs": [
    {
     "data": {
      "text/plain": [
       "DatetimeIndex(['2010-01-01 00:00:00', '2010-01-01 01:00:00',\n",
       "               '2010-01-01 02:00:00', '2010-01-01 03:00:00',\n",
       "               '2010-01-01 04:00:00', '2010-01-01 05:00:00',\n",
       "               '2010-01-01 06:00:00', '2010-01-01 07:00:00',\n",
       "               '2010-01-01 08:00:00', '2010-01-01 09:00:00',\n",
       "               '2010-01-01 10:00:00', '2010-01-01 11:00:00',\n",
       "               '2010-01-01 12:00:00', '2010-01-01 13:00:00',\n",
       "               '2010-01-01 14:00:00', '2010-01-01 15:00:00',\n",
       "               '2010-01-01 16:00:00', '2010-01-01 17:00:00',\n",
       "               '2010-01-01 18:00:00', '2010-01-01 19:00:00',\n",
       "               '2010-01-01 20:00:00', '2010-01-01 21:00:00',\n",
       "               '2010-01-01 22:00:00', '2010-01-01 23:00:00',\n",
       "               '2010-01-02 00:00:00', '2010-01-02 01:00:00',\n",
       "               '2010-01-02 02:00:00', '2010-01-02 03:00:00',\n",
       "               '2010-01-02 04:00:00', '2010-01-02 05:00:00',\n",
       "               '2010-01-02 06:00:00', '2010-01-02 07:00:00',\n",
       "               '2010-01-02 08:00:00', '2010-01-02 09:00:00',\n",
       "               '2010-01-02 10:00:00', '2010-01-02 11:00:00',\n",
       "               '2010-01-02 12:00:00', '2010-01-02 13:00:00',\n",
       "               '2010-01-02 14:00:00', '2010-01-02 15:00:00',\n",
       "               '2010-01-02 16:00:00', '2010-01-02 17:00:00',\n",
       "               '2010-01-02 18:00:00', '2010-01-02 19:00:00',\n",
       "               '2010-01-02 20:00:00', '2010-01-02 21:00:00',\n",
       "               '2010-01-02 22:00:00', '2010-01-02 23:00:00',\n",
       "               '2010-01-03 00:00:00', '2010-01-03 01:00:00',\n",
       "               '2010-01-03 02:00:00', '2010-01-03 03:00:00',\n",
       "               '2010-01-03 04:00:00', '2010-01-03 05:00:00',\n",
       "               '2010-01-03 06:00:00', '2010-01-03 07:00:00',\n",
       "               '2010-01-03 08:00:00', '2010-01-03 09:00:00',\n",
       "               '2010-01-03 10:00:00', '2010-01-03 11:00:00',\n",
       "               '2010-01-03 12:00:00', '2010-01-03 13:00:00',\n",
       "               '2010-01-03 14:00:00', '2010-01-03 15:00:00',\n",
       "               '2010-01-03 16:00:00', '2010-01-03 17:00:00',\n",
       "               '2010-01-03 18:00:00', '2010-01-03 19:00:00',\n",
       "               '2010-01-03 20:00:00', '2010-01-03 21:00:00'],\n",
       "              dtype='datetime64[ns]', freq='H')"
      ]
     },
     "execution_count": 10,
     "metadata": {},
     "output_type": "execute_result"
    }
   ],
   "source": [
    "pd.date_range('1/1/2010',periods=70,freq='H')\n",
    "#['2010-01-01 00:00:00' ，。。。，'2010-01-03 21:00:00'],              dtype='datetime64[ns]', freq='H')"
   ]
  },
  {
   "cell_type": "code",
   "execution_count": 20,
   "metadata": {},
   "outputs": [
    {
     "data": {
      "text/plain": [
       "Period('2010-01', 'M')"
      ]
     },
     "execution_count": 20,
     "metadata": {},
     "output_type": "execute_result"
    }
   ],
   "source": [
    "p=pd.Period(2010,freq='m')\n",
    "p"
   ]
  },
  {
   "cell_type": "code",
   "execution_count": 21,
   "metadata": {},
   "outputs": [
    {
     "data": {
      "text/plain": [
       "PeriodIndex(['2010-01', '2010-02', '2010-03', '2010-04', '2010-05'], dtype='period[M]', freq='M')"
      ]
     },
     "execution_count": 21,
     "metadata": {},
     "output_type": "execute_result"
    }
   ],
   "source": [
    "pd.period_range('2010-01','2010-05',freq='M')"
   ]
  },
  {
   "cell_type": "code",
   "execution_count": 25,
   "metadata": {},
   "outputs": [
    {
     "data": {
      "text/plain": [
       "2010-01    0.169513\n",
       "2010-02    2.135938\n",
       "2010-03   -0.377607\n",
       "2010-04    0.278958\n",
       "Freq: M, dtype: float64"
      ]
     },
     "execution_count": 25,
     "metadata": {},
     "output_type": "execute_result"
    }
   ],
   "source": [
    "ts = pd.Series(np.random.randn(4),index=pd.period_range('201001','201004',freq='M'))\n",
    "ts"
   ]
  },
  {
   "cell_type": "code",
   "execution_count": 26,
   "metadata": {},
   "outputs": [
    {
     "data": {
      "text/plain": [
       "2010-01-01    0.169513\n",
       "2010-02-01    2.135938\n",
       "2010-03-01   -0.377607\n",
       "2010-04-01    0.278958\n",
       "Freq: MS, dtype: float64"
      ]
     },
     "execution_count": 26,
     "metadata": {},
     "output_type": "execute_result"
    }
   ],
   "source": [
    "ts.to_timestamp()"
   ]
  },
  {
   "cell_type": "code",
   "execution_count": 27,
   "metadata": {},
   "outputs": [
    {
     "data": {
      "text/plain": [
       "2010-01-31    0.169513\n",
       "2010-02-28    2.135938\n",
       "2010-03-31   -0.377607\n",
       "2010-04-30    0.278958\n",
       "Freq: M, dtype: float64"
      ]
     },
     "execution_count": 27,
     "metadata": {},
     "output_type": "execute_result"
    }
   ],
   "source": [
    "ts.to_timestamp(how='end')"
   ]
  },
  {
   "cell_type": "code",
   "execution_count": 28,
   "metadata": {},
   "outputs": [
    {
     "data": {
      "text/plain": [
       "2010-01    0.169513\n",
       "2010-02    2.135938\n",
       "2010-03   -0.377607\n",
       "2010-04    0.278958\n",
       "Freq: M, dtype: float64"
      ]
     },
     "execution_count": 28,
     "metadata": {},
     "output_type": "execute_result"
    }
   ],
   "source": [
    "ts.to_timestamp().to_period()"
   ]
  },
  {
   "cell_type": "code",
   "execution_count": 29,
   "metadata": {},
   "outputs": [
    {
     "data": {
      "text/plain": [
       "2010-01-01    0.169513\n",
       "2010-02-01    2.135938\n",
       "2010-03-01   -0.377607\n",
       "2010-04-01    0.278958\n",
       "Freq: D, dtype: float64"
      ]
     },
     "execution_count": 29,
     "metadata": {},
     "output_type": "execute_result"
    }
   ],
   "source": [
    "ts.to_timestamp().to_period('D')"
   ]
  }
 ],
 "metadata": {
  "kernelspec": {
   "display_name": "Python 2",
   "language": "python",
   "name": "python2"
  },
  "language_info": {
   "codemirror_mode": {
    "name": "ipython",
    "version": 2
   },
   "file_extension": ".py",
   "mimetype": "text/x-python",
   "name": "python",
   "nbconvert_exporter": "python",
   "pygments_lexer": "ipython2",
   "version": "2.7.13"
  }
 },
 "nbformat": 4,
 "nbformat_minor": 2
}
